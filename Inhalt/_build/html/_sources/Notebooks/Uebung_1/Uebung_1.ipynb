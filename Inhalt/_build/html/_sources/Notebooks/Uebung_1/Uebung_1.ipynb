{
 "cells": [
  {
   "cell_type": "markdown",
   "metadata": {},
   "source": [
    "# Wasserbau 4, Uebung 01\n",
    "## Aufgabe 1 – Hochwasserstatistik mit Python\n",
    "Dieses Jupyter Notebook behandelt die Analyse von Hochwasserstatistiken mit der Pearson-Typ-III-Verteilung, ermöglicht empirische Häufigkeitsanalysen und beinhaltet die Bemessung eines Hochwasserrückhaltebeckens."
   ]
  },
  {
   "cell_type": "markdown",
   "metadata": {},
   "source": [
    "## 1. Pearson-Typ-III-Verteilung – Grundlagen und Berechnung"
   ]
  },
  {
   "cell_type": "code",
   "execution_count": null,
   "metadata": {},
   "outputs": [],
   "source": [
    "# Beispielhafte Daten (Scheitelabflüsse in m³/s)\n",
    "Q = [38.5, 38.1, 35.2, 32.0, 29.5, 29.0, 28.7, 28.2, 25.2, 23.7, 23.3, 22.6, 21.5]"
   ]
  },
  {
   "cell_type": "code",
   "execution_count": null,
   "metadata": {},
   "outputs": [
    {
     "name": "stdout",
     "output_type": "stream",
     "text": [
      "Arithmetisches Mittel = 28.88 m³/s\n",
      "Standardabweichung = 5.73 m³/s\n",
      "Schiefekoeffizient C_sx = 0.492\n"
     ]
    }
   ],
   "source": [
    "import math\n",
    "# Berechnung arithmetisches Mittel, Standardabweichung, Schiefe\n",
    "n = len(Q)\n",
    "mean_x = sum(Q) / n\n",
    "s_x = math.sqrt(sum((x - mean_x)**2 for x in Q) / (n - 1))\n",
    "C_sx = (n * sum((x - mean_x)**3 for x in Q)) / ((n - 1) * (n - 2) * s_x**3)\n",
    "print(f\"Arithmetisches Mittel = {mean_x:.2f} m³/s\")\n",
    "print(f\"Standardabweichung = {s_x:.2f} m³/s\")\n",
    "print(f\"Schiefekoeffizient C_sx = {C_sx:.3f}\")"
   ]
  },
  {
   "cell_type": "markdown",
   "metadata": {},
   "source": [
    "### Logarithmische Transformation und Pearson-Verteilungsparameter"
   ]
  },
  {
   "cell_type": "code",
   "execution_count": null,
   "metadata": {},
   "outputs": [
    {
     "name": "stdout",
     "output_type": "stream",
     "text": [
      "Arithmetisches Mittel (log) = 1.453\n",
      "Standardabweichung (log) = 0.085\n",
      "Schiefekoeffizient C_sy = 0.231\n"
     ]
    }
   ],
   "source": [
    "# Logarithmische Transformation\n",
    "Y = [math.log10(x) for x in Q]\n",
    "mean_y = sum(Y) / n\n",
    "s_y = math.sqrt(sum((y - mean_y)**2 for y in Y) / (n - 1))\n",
    "C_sy = (n * sum((y - mean_y)**3 for y in Y)) / ((n - 1) * (n - 2) * s_y**3)\n",
    "print(f\"Arithmetisches Mittel (log) = {mean_y:.3f}\")\n",
    "print(f\"Standardabweichung (log) = {s_y:.3f}\")\n",
    "print(f\"Schiefekoeffizient C_sy = {C_sy:.3f}\")"
   ]
  },
  {
   "cell_type": "code",
   "execution_count": null,
   "metadata": {},
   "outputs": [
    {
     "name": "stdout",
     "output_type": "stream",
     "text": [
      "50-jährliches Hochwasser: 43.39 m³/s\n",
      "100-jährliches Hochwasser: 46.17 m³/s\n"
     ]
    }
   ],
   "source": [
    "# k-Wert-Interpolation\n",
    "def interpolate_k(Cs, Cs1, k1, Cs2, k2):\n",
    "    return k1 + (k2 - k1) * (Cs - Cs1) / (Cs2 - Cs1)\n",
    "\n",
    "# Beispiel: Interpolation für T=50a und 100a\n",
    "k_T50 = interpolate_k(C_sy, 0.2, 2.159, 0.3, 2.211)\n",
    "k_T100 = interpolate_k(C_sy, 0.2, 2.472, 0.3, 2.544)\n",
    "y_T50 = mean_y + s_y * k_T50\n",
    "y_T100 = mean_y + s_y * k_T100\n",
    "Q_T50 = 10**y_T50\n",
    "Q_T100 = 10**y_T100\n",
    "print(f\"50-jährliches Hochwasser: {Q_T50:.2f} m³/s\")\n",
    "print(f\"100-jährliches Hochwasser: {Q_T100:.2f} m³/s\")"
   ]
  },
  {
   "cell_type": "markdown",
   "metadata": {},
   "source": [
    "### Interaktives Widget – Bemessungshochwasser"
   ]
  },
  {
   "cell_type": "code",
   "execution_count": null,
   "metadata": {},
   "outputs": [
    {
     "data": {
      "application/vnd.jupyter.widget-view+json": {
       "model_id": "2bb08fa42c0a4acdb4b38b9e8b18cf4e",
       "version_major": 2,
       "version_minor": 0
      },
      "text/plain": [
       "interactive(children=(Dropdown(description='T', index=2, options=(25, 50, 100, 200, 1000), value=100), Output(…"
      ]
     },
     "metadata": {},
     "output_type": "display_data"
    },
    {
     "data": {
      "text/plain": [
       "<function __main__.design_flood(T=100)>"
      ]
     },
     "metadata": {},
     "output_type": "display_data"
    }
   ],
   "source": [
    "import ipywidgets as widgets\n",
    "from ipywidgets import interact\n",
    "\n",
    "def design_flood(T=100):\n",
    "    k_table = {25: 1.8277, 50: 2.1752, 100: 2.4945, 200: 2.7920, 1000: 3.4219}\n",
    "    kT = k_table.get(T, 2.4945)\n",
    "    yT = mean_y + s_y * kT\n",
    "    QT = 10**yT\n",
    "    print(f\"{T}-jährliches Hochwasser: Q ≈ {QT:.1f} m³/s\")\n",
    "\n",
    "interact(design_flood, T=widgets.Dropdown(options=[25,50,100,200,1000], value=100))"
   ]
  },
  {
   "cell_type": "markdown",
   "metadata": {},
   "source": [
    "## 2. Empirische Häufigkeit und Häufigkeitsanalyse"
   ]
  },
  {
   "cell_type": "code",
   "execution_count": null,
   "metadata": {},
   "outputs": [
    {
     "data": {
      "text/html": [
       "<div>\n",
       "<style scoped>\n",
       "    .dataframe tbody tr th:only-of-type {\n",
       "        vertical-align: middle;\n",
       "    }\n",
       "\n",
       "    .dataframe tbody tr th {\n",
       "        vertical-align: top;\n",
       "    }\n",
       "\n",
       "    .dataframe thead th {\n",
       "        text-align: right;\n",
       "    }\n",
       "</style>\n",
       "<table border=\"1\" class=\"dataframe\">\n",
       "  <thead>\n",
       "    <tr style=\"text-align: right;\">\n",
       "      <th></th>\n",
       "      <th>Rang</th>\n",
       "      <th>HQ (m³/s)</th>\n",
       "      <th>P_emp (%)</th>\n",
       "      <th>T_emp (Jahre)</th>\n",
       "    </tr>\n",
       "  </thead>\n",
       "  <tbody>\n",
       "    <tr>\n",
       "      <th>0</th>\n",
       "      <td>1</td>\n",
       "      <td>12.7</td>\n",
       "      <td>2.702703</td>\n",
       "      <td>1.027778</td>\n",
       "    </tr>\n",
       "    <tr>\n",
       "      <th>1</th>\n",
       "      <td>2</td>\n",
       "      <td>14.0</td>\n",
       "      <td>5.405405</td>\n",
       "      <td>1.057143</td>\n",
       "    </tr>\n",
       "    <tr>\n",
       "      <th>2</th>\n",
       "      <td>3</td>\n",
       "      <td>16.0</td>\n",
       "      <td>8.108108</td>\n",
       "      <td>1.088235</td>\n",
       "    </tr>\n",
       "    <tr>\n",
       "      <th>3</th>\n",
       "      <td>4</td>\n",
       "      <td>18.2</td>\n",
       "      <td>10.810811</td>\n",
       "      <td>1.121212</td>\n",
       "    </tr>\n",
       "    <tr>\n",
       "      <th>4</th>\n",
       "      <td>5</td>\n",
       "      <td>19.4</td>\n",
       "      <td>13.513514</td>\n",
       "      <td>1.156250</td>\n",
       "    </tr>\n",
       "  </tbody>\n",
       "</table>\n",
       "</div>"
      ],
      "text/plain": [
       "   Rang  HQ (m³/s)  P_emp (%)  T_emp (Jahre)\n",
       "0     1       12.7   2.702703       1.027778\n",
       "1     2       14.0   5.405405       1.057143\n",
       "2     3       16.0   8.108108       1.088235\n",
       "3     4       18.2  10.810811       1.121212\n",
       "4     5       19.4  13.513514       1.156250"
      ]
     },
     "metadata": {},
     "output_type": "display_data"
    }
   ],
   "source": [
    "import pandas as pd\n",
    "HQ = sorted([12.7, 14.0, 16.0, 18.2, 19.4, 21.5, 22.6, 23.3, 23.7, 25.2,\n",
    "             28.2, 28.7, 29.0, 29.5, 32.0, 35.2, 38.1, 38.5, 41.7, 43.5,\n",
    "             43.7, 44.3, 44.5, 46.7, 48.5, 48.6, 52.7, 53.5, 54.9, 56.0,\n",
    "             57.2, 57.5, 58.4, 64.0, 69.0, 70.7])\n",
    "n2 = len(HQ)\n",
    "data = []\n",
    "for i, q in enumerate(HQ, start=1):\n",
    "    P_emp = i/(n2+1) * 100\n",
    "    T_emp = (n2+1) / (n2+1 - i)\n",
    "    data.append([i, q, P_emp, T_emp])\n",
    "df = pd.DataFrame(data, columns=[\"Rang\", \"HQ (m³/s)\", \"P_emp (%)\", \"T_emp (Jahre)\"])\n",
    "df.head()"
   ]
  },
  {
   "cell_type": "markdown",
   "metadata": {},
   "source": [
    "## 3. Hochwasserrückhaltebecken – Wehrberechnung"
   ]
  },
  {
   "cell_type": "code",
   "execution_count": null,
   "metadata": {},
   "outputs": [
    {
     "data": {
      "application/vnd.jupyter.widget-view+json": {
       "model_id": "feafe64c4e154fe38a0d9f91d82e1d30",
       "version_major": 2,
       "version_minor": 0
      },
      "text/plain": [
       "interactive(children=(IntSlider(value=55, description='Q', max=80, min=30), IntSlider(value=20, description='b…"
      ]
     },
     "metadata": {},
     "output_type": "display_data"
    },
    {
     "data": {
      "text/plain": [
       "<function __main__.weir_outflow(Q=55.0, b=20.0, mu=0.74)>"
      ]
     },
     "metadata": {},
     "output_type": "display_data"
    }
   ],
   "source": [
    "def weir_outflow(Q=55.0, b=20.0, mu=0.74):\n",
    "    c = 1.0\n",
    "    g = 9.81\n",
    "    h_Ü = ((3 * Q) / (2 * mu * c * b * math.sqrt(2 * g))) ** (2/3)\n",
    "    stauziel = 45.00\n",
    "    freibord = 0.70\n",
    "    kronenhöhe = stauziel + h_Ü + freibord\n",
    "    print(f\"Überfallhöhe hÜ = {h_Ü:.2f} m\")\n",
    "    print(f\"Kronenhöhe (inkl. Freibord) = {kronenhöhe:.2f} m ü. NN\")\n",
    "\n",
    "interact(weir_outflow, Q=(30,80,1), b=(10,40,1), mu=(0.50,0.80,0.01))"
   ]
  },
  {
   "cell_type": "markdown",
   "metadata": {},
   "source": [
    "## 4. Hochwasserentlastung über raue Rampe"
   ]
  },
  {
   "cell_type": "code",
   "execution_count": null,
   "metadata": {},
   "outputs": [
    {
     "data": {
      "application/vnd.jupyter.widget-view+json": {
       "model_id": "d012943d13374e7f8cd3c9de520474bc",
       "version_major": 2,
       "version_minor": 0
      },
      "text/plain": [
       "interactive(children=(IntSlider(value=55, description='Q', max=80, min=30), IntSlider(value=20, description='b…"
      ]
     },
     "metadata": {},
     "output_type": "display_data"
    },
    {
     "data": {
      "text/plain": [
       "<function __main__.ramp_design(Q=55.0, b=20.0, I_R=0.075, rho_s=2650.0)>"
      ]
     },
     "metadata": {},
     "output_type": "display_data"
    }
   ],
   "source": [
    "def ramp_design(Q=55.0, b=20.0, I_R=0.075, rho_s=2650.0):\n",
    "    rho_w = 1000.0\n",
    "    g = 9.81\n",
    "    q_ist = Q / b\n",
    "    denominator = 0.8 * 0.257 * math.sqrt((rho_s - rho_w) / rho_w) * math.sqrt(g) * (I_R ** (-7/6))\n",
    "    d65 = (q_ist / denominator) ** (2/3)\n",
    "    d_s = 1.06 * d65\n",
    "    m_s = rho_s * math.pi * (d_s**3) / 6\n",
    "    print(f\"d_65 ≈ {d65:.3f} m, d_s ≈ {d_s:.3f} m, Steinmasse ≈ {m_s:.1f} kg\")\n",
    "\n",
    "interact(ramp_design, Q=(30,80,1), b=(10,40,1), I_R=(0.01,0.15,0.005), rho_s=(2000,3000,50))"
   ]
  },
  {
   "cell_type": "code",
   "execution_count": 3,
   "metadata": {},
   "outputs": [],
   "source": [
    "# Konstanten\n",
    "b_klappe = 7.2  # Breite pro Klappe [m]\n",
    "g = 9.81        # Erdbeschleunigung [m/s²]\n"
   ]
  },
  {
   "cell_type": "code",
   "execution_count": 4,
   "metadata": {},
   "outputs": [
    {
     "data": {
      "application/vnd.jupyter.widget-view+json": {
       "model_id": "6a648d5daa21478fa1cc2f73654b7139",
       "version_major": 2,
       "version_minor": 0
      },
      "text/plain": [
       "FloatSlider(value=0.65, description='μ:', max=1.0, min=0.4, step=0.01)"
      ]
     },
     "metadata": {},
     "output_type": "display_data"
    },
    {
     "data": {
      "application/vnd.jupyter.widget-view+json": {
       "model_id": "8f9eceeaf05e4dc58382c9a3d4a6c117",
       "version_major": 2,
       "version_minor": 0
      },
      "text/plain": [
       "IntSlider(value=4, description='Klappen n:', max=5, min=1)"
      ]
     },
     "metadata": {},
     "output_type": "display_data"
    },
    {
     "data": {
      "application/vnd.jupyter.widget-view+json": {
       "model_id": "dde198a0199c4b5485a598c8dd4586c4",
       "version_major": 2,
       "version_minor": 0
      },
      "text/plain": [
       "FloatSlider(value=100.0, description='Q [m³/s]:', max=500.0, min=10.0, step=10.0)"
      ]
     },
     "metadata": {},
     "output_type": "display_data"
    },
    {
     "data": {
      "application/vnd.jupyter.widget-view+json": {
       "model_id": "fbdb879b7a994399b915da08bc2d9ca4",
       "version_major": 2,
       "version_minor": 0
      },
      "text/plain": [
       "FloatSlider(value=1.2, description='h1 [m]:', max=3.0, min=0.5, step=0.05)"
      ]
     },
     "metadata": {},
     "output_type": "display_data"
    }
   ],
   "source": [
    "import ipywidgets as widgets\n",
    "from IPython.display import display\n",
    "\n",
    "# Interaktive Eingabe der Parameter\n",
    "mu_widget = widgets.FloatSlider(value=0.65, min=0.4, max=1.0, step=0.01, description='μ:')\n",
    "n_widget = widgets.IntSlider(value=4, min=1, max=5, step=1, description='Klappen n:')\n",
    "Q_widget = widgets.FloatSlider(value=100, min=10, max=500, step=10, description='Q [m³/s]:')\n",
    "h1_widget = widgets.FloatSlider(value=1.2, min=0.5, max=3.0, step=0.05, description='h1 [m]:')\n",
    "\n",
    "display(mu_widget, n_widget, Q_widget, h1_widget)\n"
   ]
  },
  {
   "cell_type": "code",
   "execution_count": 5,
   "metadata": {},
   "outputs": [
    {
     "data": {
      "application/vnd.jupyter.widget-view+json": {
       "model_id": "a07b0646b9ff404b905341d2646b3cfd",
       "version_major": 2,
       "version_minor": 0
      },
      "text/plain": [
       "interactive(children=(FloatSlider(value=0.65, description='μ:', max=1.0, min=0.4, step=0.01), IntSlider(value=…"
      ]
     },
     "metadata": {},
     "output_type": "display_data"
    },
    {
     "data": {
      "text/plain": [
       "<function __main__.berechne_interaktiv(mu, n, Q, h1)>"
      ]
     },
     "execution_count": 5,
     "metadata": {},
     "output_type": "execute_result"
    }
   ],
   "source": [
    "from ipywidgets import interact\n",
    "\n",
    "def berechne_interaktiv(mu, n, Q, h1):\n",
    "    A = b_klappe * n\n",
    "    v1 = Q / (A * h1)\n",
    "    Fr = v1 / (g * h1)**0.5\n",
    "    h2_erf = (h1 / 2) * ((8 * Fr**2 + 1)**0.5 - 1)\n",
    "    print(f\"Froude-Zahl Fr = {Fr:.2f}\")\n",
    "    print(f\"Erforderliche Tiefe h2_erf = {h2_erf:.2f} m\")\n",
    "    \n",
    "interact(berechne_interaktiv, mu=mu_widget, n=n_widget, Q=Q_widget, h1=h1_widget)\n"
   ]
  },
  {
   "cell_type": "code",
   "execution_count": 7,
   "metadata": {},
   "outputs": [
    {
     "data": {
      "application/vnd.jupyter.widget-view+json": {
       "model_id": "5e11ae28dd7143c79bf86c55f224a7b1",
       "version_major": 2,
       "version_minor": 0
      },
      "text/plain": [
       "interactive(children=(Dropdown(description='Klappenanzahl:', index=3, options=(1, 2, 3, 4, 5), value=4), Outpu…"
      ]
     },
     "metadata": {},
     "output_type": "display_data"
    },
    {
     "data": {
      "text/plain": [
       "<function __main__.zeige_diagramm(n_klappen)>"
      ]
     },
     "execution_count": 7,
     "metadata": {},
     "output_type": "execute_result"
    }
   ],
   "source": [
    "import pandas as pd\n",
    "import matplotlib.pyplot as plt\n",
    "\n",
    "data = {\n",
    "    \"h2_erf [m]\": [1.49, 2.67, 4.09, 5.76],\n",
    "    \"n=1\": [6, 20, 50, 110],\n",
    "    \"n=2\": [12, 40, 100, 220],\n",
    "    \"n=3\": [18, 60, 150, 330],\n",
    "    \"n=4\": [24, 80, 200, 440],\n",
    "    \"n=5\": [30, 100, 250, 550],\n",
    "}\n",
    "df = pd.DataFrame(data)\n",
    "\n",
    "klappen_dropdown = widgets.Dropdown(\n",
    "    options=[1, 2, 3, 4, 5],\n",
    "    value=4,\n",
    "    description='Klappenanzahl:',\n",
    ")\n",
    "\n",
    "def zeige_diagramm(n_klappen):\n",
    "    plt.plot(df[\"h2_erf [m]\"], df[f\"n={n_klappen}\"], marker='o')\n",
    "    plt.title(f\"Wehrbedienungsplan für n={n_klappen} Klappen\")\n",
    "    plt.xlabel(\"h2_erf [m]\")\n",
    "    plt.ylabel(\"Abfluss Q [m³/s]\")\n",
    "    plt.grid(True)\n",
    "    plt.show()\n",
    "\n",
    "interact(zeige_diagramm, n_klappen=klappen_dropdown)\n"
   ]
  },
  {
   "cell_type": "markdown",
   "metadata": {},
   "source": [
    "### ✍ Aufgabe:\n",
    "Variieren Sie den Abfluss Q und beobachten Sie, wie sich die erforderliche Wassertiefe h2_erf verändert.\n",
    "Was passiert bei hoher Froude-Zahl? Wie verändert sich der Wehrbedienungsplan bei geringer Klappenzahl?"
   ]
  }
 ],
 "metadata": {
  "kernelspec": {
   "display_name": "hausarbeit_wb4",
   "language": "python",
   "name": "python3"
  },
  "language_info": {
   "codemirror_mode": {
    "name": "ipython",
    "version": 3
   },
   "file_extension": ".py",
   "mimetype": "text/x-python",
   "name": "python",
   "nbconvert_exporter": "python",
   "pygments_lexer": "ipython3",
   "version": "3.10.16"
  }
 },
 "nbformat": 4,
 "nbformat_minor": 2
}
