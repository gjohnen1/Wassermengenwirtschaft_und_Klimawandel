{
 "cells": [
  {
   "cell_type": "markdown",
   "metadata": {},
   "source": [
    "# Ausführen von Code in Jupyter Notebooks\n",
    "\n",
    "In Jupyter Notebooks kann Code interaktiv ausgeführt werden. Dies ermöglicht es, den Code schrittweise auszuführen und die Ergebnisse zu überprüfen.\n",
    "\n",
    "Um Code in einer Zelle auszuführen, gibt es verschiedene Möglichkeiten:\n",
    "\n",
    "- **Klicken auf den \"Run\"-Button**: In der Symbolleiste oben im Notebook befindet sich ein Button mit einem Pfeilsymbol. Durch Klicken auf diesen Button wird der Code in der aktuellen Zelle ausgeführt. Alternativ kann auch die Tastenkombination \"Shift + Enter\" verwendet werden, um den Code auszuführen und zur nächsten Zelle zu gelangen.\n",
    "\n",
    "- **Verwendung der Tastenkombination \"Ctrl + Enter\"**: Falls nur der Code in der aktuellen Zelle ausgeführt werden soll, ohne zur nächsten Zelle zu wechseln, kann die Tastenkombination \"Ctrl + Enter\" verwendet werden. Dadurch wird der Code ausgeführt, und der Cursor verbleibt in derselben Zelle."
   ]
  }
 ],
 "metadata": {
  "language_info": {
   "name": "python"
  }
 },
 "nbformat": 4,
 "nbformat_minor": 2
}
