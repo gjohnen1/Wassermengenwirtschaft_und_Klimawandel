{
 "cells": [
  {
   "cell_type": "markdown",
   "metadata": {},
   "source": [
    "# Wasserbau 4 – Übung 02\n",
    "## Aufgabe 1 – Interaktiver Wehrbedienungsplan\n",
    "Dieses interaktive Notebook erlaubt es Ihnen, Parameter für eine Wehranlage selbst zu variieren und die Auswirkungen auf hydraulische Kenngrößen zu untersuchen."
   ]
  },
  {
   "cell_type": "code",
   "execution_count": 3,
   "metadata": {},
   "outputs": [],
   "source": [
    "# Konstanten\n",
    "b_klappe = 7.2  # Breite pro Klappe [m]\n",
    "g = 9.81        # Erdbeschleunigung [m/s²]\n"
   ]
  },
  {
   "cell_type": "code",
   "execution_count": 4,
   "metadata": {},
   "outputs": [
    {
     "data": {
      "application/vnd.jupyter.widget-view+json": {
       "model_id": "6a648d5daa21478fa1cc2f73654b7139",
       "version_major": 2,
       "version_minor": 0
      },
      "text/plain": [
       "FloatSlider(value=0.65, description='μ:', max=1.0, min=0.4, step=0.01)"
      ]
     },
     "metadata": {},
     "output_type": "display_data"
    },
    {
     "data": {
      "application/vnd.jupyter.widget-view+json": {
       "model_id": "8f9eceeaf05e4dc58382c9a3d4a6c117",
       "version_major": 2,
       "version_minor": 0
      },
      "text/plain": [
       "IntSlider(value=4, description='Klappen n:', max=5, min=1)"
      ]
     },
     "metadata": {},
     "output_type": "display_data"
    },
    {
     "data": {
      "application/vnd.jupyter.widget-view+json": {
       "model_id": "dde198a0199c4b5485a598c8dd4586c4",
       "version_major": 2,
       "version_minor": 0
      },
      "text/plain": [
       "FloatSlider(value=100.0, description='Q [m³/s]:', max=500.0, min=10.0, step=10.0)"
      ]
     },
     "metadata": {},
     "output_type": "display_data"
    },
    {
     "data": {
      "application/vnd.jupyter.widget-view+json": {
       "model_id": "fbdb879b7a994399b915da08bc2d9ca4",
       "version_major": 2,
       "version_minor": 0
      },
      "text/plain": [
       "FloatSlider(value=1.2, description='h1 [m]:', max=3.0, min=0.5, step=0.05)"
      ]
     },
     "metadata": {},
     "output_type": "display_data"
    }
   ],
   "source": [
    "import ipywidgets as widgets\n",
    "from IPython.display import display\n",
    "\n",
    "# Interaktive Eingabe der Parameter\n",
    "mu_widget = widgets.FloatSlider(value=0.65, min=0.4, max=1.0, step=0.01, description='μ:')\n",
    "n_widget = widgets.IntSlider(value=4, min=1, max=5, step=1, description='Klappen n:')\n",
    "Q_widget = widgets.FloatSlider(value=100, min=10, max=500, step=10, description='Q [m³/s]:')\n",
    "h1_widget = widgets.FloatSlider(value=1.2, min=0.5, max=3.0, step=0.05, description='h1 [m]:')\n",
    "\n",
    "display(mu_widget, n_widget, Q_widget, h1_widget)\n"
   ]
  },
  {
   "cell_type": "code",
   "execution_count": 5,
   "metadata": {},
   "outputs": [
    {
     "data": {
      "application/vnd.jupyter.widget-view+json": {
       "model_id": "a07b0646b9ff404b905341d2646b3cfd",
       "version_major": 2,
       "version_minor": 0
      },
      "text/plain": [
       "interactive(children=(FloatSlider(value=0.65, description='μ:', max=1.0, min=0.4, step=0.01), IntSlider(value=…"
      ]
     },
     "metadata": {},
     "output_type": "display_data"
    },
    {
     "data": {
      "text/plain": [
       "<function __main__.berechne_interaktiv(mu, n, Q, h1)>"
      ]
     },
     "execution_count": 5,
     "metadata": {},
     "output_type": "execute_result"
    }
   ],
   "source": [
    "from ipywidgets import interact\n",
    "\n",
    "def berechne_interaktiv(mu, n, Q, h1):\n",
    "    A = b_klappe * n\n",
    "    v1 = Q / (A * h1)\n",
    "    Fr = v1 / (g * h1)**0.5\n",
    "    h2_erf = (h1 / 2) * ((8 * Fr**2 + 1)**0.5 - 1)\n",
    "    print(f\"Froude-Zahl Fr = {Fr:.2f}\")\n",
    "    print(f\"Erforderliche Tiefe h2_erf = {h2_erf:.2f} m\")\n",
    "    \n",
    "interact(berechne_interaktiv, mu=mu_widget, n=n_widget, Q=Q_widget, h1=h1_widget)\n"
   ]
  },
  {
   "cell_type": "code",
   "execution_count": null,
   "metadata": {},
   "outputs": [
    {
     "data": {
      "application/vnd.jupyter.widget-view+json": {
       "model_id": "5e11ae28dd7143c79bf86c55f224a7b1",
       "version_major": 2,
       "version_minor": 0
      },
      "text/plain": [
       "interactive(children=(Dropdown(description='Klappenanzahl:', index=3, options=(1, 2, 3, 4, 5), value=4), Outpu…"
      ]
     },
     "metadata": {},
     "output_type": "display_data"
    },
    {
     "data": {
      "text/plain": [
       "<function __main__.zeige_diagramm(n_klappen)>"
      ]
     },
     "execution_count": 7,
     "metadata": {},
     "output_type": "execute_result"
    }
   ],
   "source": [
    "import pandas as pd\n",
    "import matplotlib.pyplot as plt\n",
    "\n",
    "data = {\n",
    "    \"h2_erf [m]\": [1.49, 2.67, 4.09, 5.76],\n",
    "    \"n=1\": [6, 20, 50, 110],\n",
    "    \"n=2\": [12, 40, 100, 220],\n",
    "    \"n=3\": [18, 60, 150, 330],\n",
    "    \"n=4\": [24, 80, 200, 440],\n",
    "    \"n=5\": [30, 100, 250, 550],\n",
    "}\n",
    "df = pd.DataFrame(data)\n",
    "\n",
    "klappen_dropdown = widgets.Dropdown(\n",
    "    options=[1, 2, 3, 4, 5],\n",
    "    value=4,\n",
    "    description='Klappenanzahl:',\n",
    ")\n",
    "\n",
    "def zeige_diagramm(n_klappen):\n",
    "    plt.plot(df[\"h2_erf [m]\"], df[f\"n={n_klappen}\"], marker='o')\n",
    "    plt.title(f\"Wehrbedienungsplan für n={n_klappen} Klappen\")\n",
    "    plt.xlabel(\"h2_erf [m]\")\n",
    "    plt.ylabel(\"Abfluss Q [m³/s]\")\n",
    "    plt.grid(True)\n",
    "    plt.show()\n",
    "\n",
    "interact(zeige_diagramm, n_klappen=klappen_dropdown)\n"
   ]
  },
  {
   "cell_type": "markdown",
   "metadata": {},
   "source": [
    "### ✍ Aufgabe:\n",
    "Variieren Sie den Abfluss Q und beobachten Sie, wie sich die erforderliche Wassertiefe h2_erf verändert.\n",
    "Was passiert bei hoher Froude-Zahl? Wie verändert sich der Wehrbedienungsplan bei geringer Klappenzahl?"
   ]
  }
 ],
 "metadata": {
  "kernelspec": {
   "display_name": "hausarbeit_wb4",
   "language": "python",
   "name": "python3"
  },
  "language_info": {
   "codemirror_mode": {
    "name": "ipython",
    "version": 3
   },
   "file_extension": ".py",
   "mimetype": "text/x-python",
   "name": "python",
   "nbconvert_exporter": "python",
   "pygments_lexer": "ipython3",
   "version": "3.10.16"
  }
 },
 "nbformat": 4,
 "nbformat_minor": 2
}
