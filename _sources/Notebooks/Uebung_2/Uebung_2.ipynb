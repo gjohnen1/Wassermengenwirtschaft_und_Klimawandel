{
 "cells": [
  {
   "cell_type": "markdown",
   "metadata": {},
   "source": [
    "# Wasserbau 4, Uebung 02\n",
    "## Aufgabe 1 – Interaktiver Wehrbedienungsplan\n",
    "Dieses interaktive Notebook erlaubt es, Parameter für eine Wehranlage selbst zu variieren und die Auswirkungen auf hydraulische Kenngrößen zu untersuchen."
   ]
  },
  {
   "cell_type": "markdown",
   "metadata": {},
   "source": [
    "Für eine geplante Wehranlage soll Ihr Ingenieurbüro die erforderlichen Berechnungen\n",
    "durchführen und den Wehrbedienungsplan erstellen. Folgende Werte wurden bestimmt:\n",
    "Das Wehr wird mit 5 Fischbauchklappen mit einer Breite von je 7,2 m und einem Verlustbeiwert\n",
    "von 𝜇 = 0,65 ausgebildet. Die Stauhöhe beträgt 10 m. Die Wehrhöhe ist auf 6 m festgelegt. Die\n",
    "Sohleintiefung beträgt 𝑠 = 2 m. Die Abflusskurve ist in der Excel-Tabelle (Anlage gegeben).\n",
    "Setzen Sie Verluste mit **$ℎ_𝑣$** = 0,2 ℎ′ an.\n",
    " \n",
    "![](img/AufbauWehr.png) "
   ]
  },
  {
   "cell_type": "markdown",
   "metadata": {},
   "source": [
    "### Bernoulli-Energiegleichung\n",
    "\n",
    "Die Bernoulli-Gleichung beschreibt die Energieerhaltung in einer idealen, reibungsfreien Strömung. Sie lautet:\n",
    "\n",
    "$$ \\frac{p_1}{\\rho g} + \\frac{v_1^2}{2g} + z_1 = \\frac{p_2}{\\rho g} + \\frac{v_2^2}{2g} + z_2 + h_v $$\n",
    "\n",
    "#### Bedeutung der Terme:\n",
    "- $ \\frac{p}{\\rho g} $\n",
    "ist der Druckhöhenanteil.\n",
    "\n",
    "- $ \\frac{v^2}{2g} $ \n",
    "ist der Geschwindigkeits- oder dynamische Höhenanteil.\n",
    "\n",
    "- $ \\ z_2 $\n",
    "ist der geodätische Höhenanteil.\n",
    "\n",
    "- $ \\ h_v $\n",
    "ist die Verlusthöhe\n",
    "\n",
    "Diese Gleichung beschreibt die Energieerhaltung entlang eines Stromfadens und setzt voraus, dass keine äußeren Kräfte oder Reibungsverluste wirken.\n",
    "\n",
    "\n",
    "![](img/ErklärungVerlusthöhe.png) \n",
    "\n",
    "\n",
    "### Der ebene freie Wechselsprung\n",
    "\n",
    "Durch die Anwendung des Impulssatzes an den Kontrollschnitten 1-1 und 2-2 kann die Gleichung der konjugierten Wassertiefen beim Wechselsprung hergeleitet werden\n",
    "\n",
    "$$ \\frac{h_2}{h_1} = \\frac{1}{2} \\left( \\sqrt{1 + 8 \\cdot Fr_1^2} - 1 \\right)  \\quad   bzw.  \\quad   \\frac{h_1}{h_2} = \\frac{1}{2} \\left( \\sqrt{1 + 8 \\cdot Fr_2^2} - 1 \\right) $$\n",
    "\n",
    "Durch die zusätzliche Anwendung der Bernoulli-Gleichung kann die Verlusthöhe im Wechselsprung wie folgt berechnet werden:\n",
    "\n",
    "![](img/VerlusthoeheWechselsprung.png) \n",
    "\n",
    "$$ h_i = \\frac{(h_2 - h_1)^3}{4 \\cdot h_1 \\cdot h_2} $$\n",
    "\n"
   ]
  },
  {
   "cell_type": "markdown",
   "metadata": {},
   "source": [
    "### Aufgabe 1\n",
    "\n",
    "### Aufgabe 1\n",
    "\n",
    "→ Es wurden bereits für drei in der Tabelle angegebene Abflüsse die erforderlichen Unterwassertiefen bei Ableitung über jeweils 4 Klappen bestimmt:\n",
    "\n",
    "![](img/Table440.png) \n",
    "\n",
    "&nbsp;&nbsp;&nbsp;&nbsp;&nbsp;&nbsp;a) Berechnen Sie die noch fehlenden Werte und zeichnen Sie den Wehrbedienungsplan\n",
    "\n",
    "&nbsp;&nbsp;&nbsp;&nbsp;&nbsp;&nbsp;b) Ist die Tiefe des Tosbeckens ausreichend bemessen?\n",
    "\n",
    "&nbsp;&nbsp;&nbsp;&nbsp;&nbsp;&nbsp;c) Über wie viele Klappen muss ein Abfluss von 𝑄 = 30 m³/s abgeführt werden?\n",
    "\n",
    "#### Gegeben:  \n",
    "n = 5 &nbsp;&nbsp;&nbsp;&nbsp;&nbsp;&nbsp; 𝑏 = 7,2 m &nbsp;&nbsp;&nbsp;&nbsp;&nbsp;&nbsp; 𝜇 = 0,65 &nbsp;&nbsp;&nbsp;&nbsp;&nbsp;&nbsp; **$h_o$** = 10 m &nbsp;&nbsp;&nbsp;&nbsp;&nbsp;&nbsp; 𝑤 = 6 m &nbsp;&nbsp;&nbsp;&nbsp;&nbsp;&nbsp; 𝑠 = 2 m &nbsp;&nbsp;&nbsp;&nbsp;&nbsp;&nbsp; **$ℎ_𝑣$** = 0,2 ⋅ ℎ′\n",
    "\n",
    "#### Berechnung von **$h_{2,\\text{erf}}$**:\n",
    "\n",
    "$$ h' + \\frac{v_0^2}{2 \\cdot g} = h_1 + \\frac{v_1^2}{2 \\cdot g} + h_v $$\n",
    "\n",
    "$$ h' = h_o + s $$\n",
    "\n",
    "$$ Fr = \\frac{v}{\\sqrt{g \\cdot h_1}} $$\n",
    "\n",
    "$$ h_{2,\\text{erf}} = \\frac{h_1}{2} \\left( \\sqrt{1 + 8 \\cdot Fr_r^2} - 1 \\right) $$\n",
    "\n",
    "→ Mindestwassertiefe des Unterwassers, damit das Bauwerk keinen Schaden nimmt\n"
   ]
  },
  {
   "cell_type": "code",
   "execution_count": 20,
   "metadata": {},
   "outputs": [
    {
     "data": {
      "application/vnd.jupyter.widget-view+json": {
       "model_id": "18dbb587356c4b2884a90d8ec63119b6",
       "version_major": 2,
       "version_minor": 0
      },
      "text/plain": [
       "interactive(children=(FloatSlider(value=0.65, description='μ:', max=1.0, min=0.4, step=0.01), IntSlider(value=…"
      ]
     },
     "metadata": {},
     "output_type": "display_data"
    },
    {
     "data": {
      "text/plain": [
       "<function __main__.berechne_interaktiv(mu, n, Q, h1)>"
      ]
     },
     "execution_count": 20,
     "metadata": {},
     "output_type": "execute_result"
    }
   ],
   "source": [
    "import ipywidgets as widgets\n",
    "from ipywidgets import interact\n",
    "from IPython.display import display\n",
    "\n",
    "# Interaktive Eingabe der Parameter\n",
    "mu_widget = widgets.FloatSlider(value=0.65, min=0.4, max=1.0, step=0.01, description='μ:')\n",
    "n_widget = widgets.IntSlider(value=4, min=1, max=5, step=1, description='Klappen n:')\n",
    "Q_widget = widgets.FloatSlider(value=440, min=10, max=500, step=10, description='Q [m³/s]:')\n",
    "h1_widget = widgets.FloatSlider(value=1.19, min=1.0, max=2.0, step=0.005, description='h1 [m]:')\n",
    "\n",
    "# Konstanten\n",
    "b_klappe = 7.2  # Breite pro Klappe [m]\n",
    "g = 9.81        # Erdbeschleunigung [m/s²]\n",
    "\n",
    "#display(mu_widget, n_widget, Q_widget, h1_widget)\n",
    "\n",
    "def berechne_interaktiv(mu, n, Q, h1):\n",
    "    A = b_klappe * n\n",
    "    v1 = Q / (A * h1)\n",
    "    Fr = v1 / (g * h1)**0.5\n",
    "    h2_erf = (h1 / 2) * ((8 * Fr**2 + 1)**0.5 - 1)\n",
    "    print(f\"Froude-Zahl Fr = {Fr:.2f}\")\n",
    "    print(f\"Erforderliche Tiefe h2_erf = {h2_erf:.2f} m\")\n",
    "    \n",
    "interact(berechne_interaktiv, mu=mu_widget, n=n_widget, Q=Q_widget, h1=h1_widget)\n"
   ]
  },
  {
   "cell_type": "markdown",
   "metadata": {},
   "source": [
    "### ✍ Aufgabe:\n",
    "Variieren Sie den Abfluss Q und beobachten Sie, wie sich die erforderliche Wassertiefe h2_erf verändert.\n",
    "\n",
    "Was passiert bei hoher Froude-Zahl? \n",
    "\n",
    "Wie verändert sich der Wehrbedienungsplan bei geringer Klappenzahl?\n",
    "\n",
    "![](img/Tableh2erf.png) "
   ]
  },
  {
   "cell_type": "code",
   "execution_count": 21,
   "metadata": {},
   "outputs": [
    {
     "data": {
      "application/vnd.plotly.v1+json": {
       "config": {
        "plotlyServerURL": "https://plot.ly"
       },
       "data": [
        {
         "hovertemplate": "Klappenanzahl=n=1<br>Abfluss Q [m³/s]=%{x}<br>h2_erf [m]=%{y}<extra></extra>",
         "legendgroup": "n=1",
         "line": {
          "color": "#636efa",
          "dash": "solid"
         },
         "marker": {
          "symbol": "circle"
         },
         "mode": "lines+markers",
         "name": "n=1",
         "orientation": "v",
         "showlegend": true,
         "type": "scatter",
         "x": {
          "bdata": "BhQybg==",
          "dtype": "i1"
         },
         "xaxis": "x",
         "y": {
          "bdata": "16NwPQrX9z9cj8L1KFwFQFyPwvUoXBBACtejcD0KF0A=",
          "dtype": "f8"
         },
         "yaxis": "y"
        },
        {
         "hovertemplate": "Klappenanzahl=n=2<br>Abfluss Q [m³/s]=%{x}<br>h2_erf [m]=%{y}<extra></extra>",
         "legendgroup": "n=2",
         "line": {
          "color": "#EF553B",
          "dash": "solid"
         },
         "marker": {
          "symbol": "circle"
         },
         "mode": "lines+markers",
         "name": "n=2",
         "orientation": "v",
         "showlegend": true,
         "type": "scatter",
         "x": {
          "bdata": "DAAoAGQA3AA=",
          "dtype": "i2"
         },
         "xaxis": "x",
         "y": {
          "bdata": "16NwPQrX9z9cj8L1KFwFQFyPwvUoXBBACtejcD0KF0A=",
          "dtype": "f8"
         },
         "yaxis": "y"
        },
        {
         "hovertemplate": "Klappenanzahl=n=3<br>Abfluss Q [m³/s]=%{x}<br>h2_erf [m]=%{y}<extra></extra>",
         "legendgroup": "n=3",
         "line": {
          "color": "#00cc96",
          "dash": "solid"
         },
         "marker": {
          "symbol": "circle"
         },
         "mode": "lines+markers",
         "name": "n=3",
         "orientation": "v",
         "showlegend": true,
         "type": "scatter",
         "x": {
          "bdata": "EgA8AJYASgE=",
          "dtype": "i2"
         },
         "xaxis": "x",
         "y": {
          "bdata": "16NwPQrX9z9cj8L1KFwFQFyPwvUoXBBACtejcD0KF0A=",
          "dtype": "f8"
         },
         "yaxis": "y"
        },
        {
         "hovertemplate": "Klappenanzahl=n=4<br>Abfluss Q [m³/s]=%{x}<br>h2_erf [m]=%{y}<extra></extra>",
         "legendgroup": "n=4",
         "line": {
          "color": "#ab63fa",
          "dash": "solid"
         },
         "marker": {
          "symbol": "circle"
         },
         "mode": "lines+markers",
         "name": "n=4",
         "orientation": "v",
         "showlegend": true,
         "type": "scatter",
         "x": {
          "bdata": "GABQAMgAuAE=",
          "dtype": "i2"
         },
         "xaxis": "x",
         "y": {
          "bdata": "16NwPQrX9z9cj8L1KFwFQFyPwvUoXBBACtejcD0KF0A=",
          "dtype": "f8"
         },
         "yaxis": "y"
        },
        {
         "hovertemplate": "Klappenanzahl=n=5<br>Abfluss Q [m³/s]=%{x}<br>h2_erf [m]=%{y}<extra></extra>",
         "legendgroup": "n=5",
         "line": {
          "color": "#FFA15A",
          "dash": "solid"
         },
         "marker": {
          "symbol": "circle"
         },
         "mode": "lines+markers",
         "name": "n=5",
         "orientation": "v",
         "showlegend": true,
         "type": "scatter",
         "x": {
          "bdata": "HgBkAPoAJgI=",
          "dtype": "i2"
         },
         "xaxis": "x",
         "y": {
          "bdata": "16NwPQrX9z9cj8L1KFwFQFyPwvUoXBBACtejcD0KF0A=",
          "dtype": "f8"
         },
         "yaxis": "y"
        }
       ],
       "layout": {
        "legend": {
         "title": {
          "text": "Klappenanzahl"
         },
         "tracegroupgap": 0
        },
        "plot_bgcolor": "white",
        "template": {
         "data": {
          "bar": [
           {
            "error_x": {
             "color": "#2a3f5f"
            },
            "error_y": {
             "color": "#2a3f5f"
            },
            "marker": {
             "line": {
              "color": "#E5ECF6",
              "width": 0.5
             },
             "pattern": {
              "fillmode": "overlay",
              "size": 10,
              "solidity": 0.2
             }
            },
            "type": "bar"
           }
          ],
          "barpolar": [
           {
            "marker": {
             "line": {
              "color": "#E5ECF6",
              "width": 0.5
             },
             "pattern": {
              "fillmode": "overlay",
              "size": 10,
              "solidity": 0.2
             }
            },
            "type": "barpolar"
           }
          ],
          "carpet": [
           {
            "aaxis": {
             "endlinecolor": "#2a3f5f",
             "gridcolor": "white",
             "linecolor": "white",
             "minorgridcolor": "white",
             "startlinecolor": "#2a3f5f"
            },
            "baxis": {
             "endlinecolor": "#2a3f5f",
             "gridcolor": "white",
             "linecolor": "white",
             "minorgridcolor": "white",
             "startlinecolor": "#2a3f5f"
            },
            "type": "carpet"
           }
          ],
          "choropleth": [
           {
            "colorbar": {
             "outlinewidth": 0,
             "ticks": ""
            },
            "type": "choropleth"
           }
          ],
          "contour": [
           {
            "colorbar": {
             "outlinewidth": 0,
             "ticks": ""
            },
            "colorscale": [
             [
              0,
              "#0d0887"
             ],
             [
              0.1111111111111111,
              "#46039f"
             ],
             [
              0.2222222222222222,
              "#7201a8"
             ],
             [
              0.3333333333333333,
              "#9c179e"
             ],
             [
              0.4444444444444444,
              "#bd3786"
             ],
             [
              0.5555555555555556,
              "#d8576b"
             ],
             [
              0.6666666666666666,
              "#ed7953"
             ],
             [
              0.7777777777777778,
              "#fb9f3a"
             ],
             [
              0.8888888888888888,
              "#fdca26"
             ],
             [
              1,
              "#f0f921"
             ]
            ],
            "type": "contour"
           }
          ],
          "contourcarpet": [
           {
            "colorbar": {
             "outlinewidth": 0,
             "ticks": ""
            },
            "type": "contourcarpet"
           }
          ],
          "heatmap": [
           {
            "colorbar": {
             "outlinewidth": 0,
             "ticks": ""
            },
            "colorscale": [
             [
              0,
              "#0d0887"
             ],
             [
              0.1111111111111111,
              "#46039f"
             ],
             [
              0.2222222222222222,
              "#7201a8"
             ],
             [
              0.3333333333333333,
              "#9c179e"
             ],
             [
              0.4444444444444444,
              "#bd3786"
             ],
             [
              0.5555555555555556,
              "#d8576b"
             ],
             [
              0.6666666666666666,
              "#ed7953"
             ],
             [
              0.7777777777777778,
              "#fb9f3a"
             ],
             [
              0.8888888888888888,
              "#fdca26"
             ],
             [
              1,
              "#f0f921"
             ]
            ],
            "type": "heatmap"
           }
          ],
          "histogram": [
           {
            "marker": {
             "pattern": {
              "fillmode": "overlay",
              "size": 10,
              "solidity": 0.2
             }
            },
            "type": "histogram"
           }
          ],
          "histogram2d": [
           {
            "colorbar": {
             "outlinewidth": 0,
             "ticks": ""
            },
            "colorscale": [
             [
              0,
              "#0d0887"
             ],
             [
              0.1111111111111111,
              "#46039f"
             ],
             [
              0.2222222222222222,
              "#7201a8"
             ],
             [
              0.3333333333333333,
              "#9c179e"
             ],
             [
              0.4444444444444444,
              "#bd3786"
             ],
             [
              0.5555555555555556,
              "#d8576b"
             ],
             [
              0.6666666666666666,
              "#ed7953"
             ],
             [
              0.7777777777777778,
              "#fb9f3a"
             ],
             [
              0.8888888888888888,
              "#fdca26"
             ],
             [
              1,
              "#f0f921"
             ]
            ],
            "type": "histogram2d"
           }
          ],
          "histogram2dcontour": [
           {
            "colorbar": {
             "outlinewidth": 0,
             "ticks": ""
            },
            "colorscale": [
             [
              0,
              "#0d0887"
             ],
             [
              0.1111111111111111,
              "#46039f"
             ],
             [
              0.2222222222222222,
              "#7201a8"
             ],
             [
              0.3333333333333333,
              "#9c179e"
             ],
             [
              0.4444444444444444,
              "#bd3786"
             ],
             [
              0.5555555555555556,
              "#d8576b"
             ],
             [
              0.6666666666666666,
              "#ed7953"
             ],
             [
              0.7777777777777778,
              "#fb9f3a"
             ],
             [
              0.8888888888888888,
              "#fdca26"
             ],
             [
              1,
              "#f0f921"
             ]
            ],
            "type": "histogram2dcontour"
           }
          ],
          "mesh3d": [
           {
            "colorbar": {
             "outlinewidth": 0,
             "ticks": ""
            },
            "type": "mesh3d"
           }
          ],
          "parcoords": [
           {
            "line": {
             "colorbar": {
              "outlinewidth": 0,
              "ticks": ""
             }
            },
            "type": "parcoords"
           }
          ],
          "pie": [
           {
            "automargin": true,
            "type": "pie"
           }
          ],
          "scatter": [
           {
            "fillpattern": {
             "fillmode": "overlay",
             "size": 10,
             "solidity": 0.2
            },
            "type": "scatter"
           }
          ],
          "scatter3d": [
           {
            "line": {
             "colorbar": {
              "outlinewidth": 0,
              "ticks": ""
             }
            },
            "marker": {
             "colorbar": {
              "outlinewidth": 0,
              "ticks": ""
             }
            },
            "type": "scatter3d"
           }
          ],
          "scattercarpet": [
           {
            "marker": {
             "colorbar": {
              "outlinewidth": 0,
              "ticks": ""
             }
            },
            "type": "scattercarpet"
           }
          ],
          "scattergeo": [
           {
            "marker": {
             "colorbar": {
              "outlinewidth": 0,
              "ticks": ""
             }
            },
            "type": "scattergeo"
           }
          ],
          "scattergl": [
           {
            "marker": {
             "colorbar": {
              "outlinewidth": 0,
              "ticks": ""
             }
            },
            "type": "scattergl"
           }
          ],
          "scattermap": [
           {
            "marker": {
             "colorbar": {
              "outlinewidth": 0,
              "ticks": ""
             }
            },
            "type": "scattermap"
           }
          ],
          "scattermapbox": [
           {
            "marker": {
             "colorbar": {
              "outlinewidth": 0,
              "ticks": ""
             }
            },
            "type": "scattermapbox"
           }
          ],
          "scatterpolar": [
           {
            "marker": {
             "colorbar": {
              "outlinewidth": 0,
              "ticks": ""
             }
            },
            "type": "scatterpolar"
           }
          ],
          "scatterpolargl": [
           {
            "marker": {
             "colorbar": {
              "outlinewidth": 0,
              "ticks": ""
             }
            },
            "type": "scatterpolargl"
           }
          ],
          "scatterternary": [
           {
            "marker": {
             "colorbar": {
              "outlinewidth": 0,
              "ticks": ""
             }
            },
            "type": "scatterternary"
           }
          ],
          "surface": [
           {
            "colorbar": {
             "outlinewidth": 0,
             "ticks": ""
            },
            "colorscale": [
             [
              0,
              "#0d0887"
             ],
             [
              0.1111111111111111,
              "#46039f"
             ],
             [
              0.2222222222222222,
              "#7201a8"
             ],
             [
              0.3333333333333333,
              "#9c179e"
             ],
             [
              0.4444444444444444,
              "#bd3786"
             ],
             [
              0.5555555555555556,
              "#d8576b"
             ],
             [
              0.6666666666666666,
              "#ed7953"
             ],
             [
              0.7777777777777778,
              "#fb9f3a"
             ],
             [
              0.8888888888888888,
              "#fdca26"
             ],
             [
              1,
              "#f0f921"
             ]
            ],
            "type": "surface"
           }
          ],
          "table": [
           {
            "cells": {
             "fill": {
              "color": "#EBF0F8"
             },
             "line": {
              "color": "white"
             }
            },
            "header": {
             "fill": {
              "color": "#C8D4E3"
             },
             "line": {
              "color": "white"
             }
            },
            "type": "table"
           }
          ]
         },
         "layout": {
          "annotationdefaults": {
           "arrowcolor": "#2a3f5f",
           "arrowhead": 0,
           "arrowwidth": 1
          },
          "autotypenumbers": "strict",
          "coloraxis": {
           "colorbar": {
            "outlinewidth": 0,
            "ticks": ""
           }
          },
          "colorscale": {
           "diverging": [
            [
             0,
             "#8e0152"
            ],
            [
             0.1,
             "#c51b7d"
            ],
            [
             0.2,
             "#de77ae"
            ],
            [
             0.3,
             "#f1b6da"
            ],
            [
             0.4,
             "#fde0ef"
            ],
            [
             0.5,
             "#f7f7f7"
            ],
            [
             0.6,
             "#e6f5d0"
            ],
            [
             0.7,
             "#b8e186"
            ],
            [
             0.8,
             "#7fbc41"
            ],
            [
             0.9,
             "#4d9221"
            ],
            [
             1,
             "#276419"
            ]
           ],
           "sequential": [
            [
             0,
             "#0d0887"
            ],
            [
             0.1111111111111111,
             "#46039f"
            ],
            [
             0.2222222222222222,
             "#7201a8"
            ],
            [
             0.3333333333333333,
             "#9c179e"
            ],
            [
             0.4444444444444444,
             "#bd3786"
            ],
            [
             0.5555555555555556,
             "#d8576b"
            ],
            [
             0.6666666666666666,
             "#ed7953"
            ],
            [
             0.7777777777777778,
             "#fb9f3a"
            ],
            [
             0.8888888888888888,
             "#fdca26"
            ],
            [
             1,
             "#f0f921"
            ]
           ],
           "sequentialminus": [
            [
             0,
             "#0d0887"
            ],
            [
             0.1111111111111111,
             "#46039f"
            ],
            [
             0.2222222222222222,
             "#7201a8"
            ],
            [
             0.3333333333333333,
             "#9c179e"
            ],
            [
             0.4444444444444444,
             "#bd3786"
            ],
            [
             0.5555555555555556,
             "#d8576b"
            ],
            [
             0.6666666666666666,
             "#ed7953"
            ],
            [
             0.7777777777777778,
             "#fb9f3a"
            ],
            [
             0.8888888888888888,
             "#fdca26"
            ],
            [
             1,
             "#f0f921"
            ]
           ]
          },
          "colorway": [
           "#636efa",
           "#EF553B",
           "#00cc96",
           "#ab63fa",
           "#FFA15A",
           "#19d3f3",
           "#FF6692",
           "#B6E880",
           "#FF97FF",
           "#FECB52"
          ],
          "font": {
           "color": "#2a3f5f"
          },
          "geo": {
           "bgcolor": "white",
           "lakecolor": "white",
           "landcolor": "#E5ECF6",
           "showlakes": true,
           "showland": true,
           "subunitcolor": "white"
          },
          "hoverlabel": {
           "align": "left"
          },
          "hovermode": "closest",
          "mapbox": {
           "style": "light"
          },
          "paper_bgcolor": "white",
          "plot_bgcolor": "#E5ECF6",
          "polar": {
           "angularaxis": {
            "gridcolor": "white",
            "linecolor": "white",
            "ticks": ""
           },
           "bgcolor": "#E5ECF6",
           "radialaxis": {
            "gridcolor": "white",
            "linecolor": "white",
            "ticks": ""
           }
          },
          "scene": {
           "xaxis": {
            "backgroundcolor": "#E5ECF6",
            "gridcolor": "white",
            "gridwidth": 2,
            "linecolor": "white",
            "showbackground": true,
            "ticks": "",
            "zerolinecolor": "white"
           },
           "yaxis": {
            "backgroundcolor": "#E5ECF6",
            "gridcolor": "white",
            "gridwidth": 2,
            "linecolor": "white",
            "showbackground": true,
            "ticks": "",
            "zerolinecolor": "white"
           },
           "zaxis": {
            "backgroundcolor": "#E5ECF6",
            "gridcolor": "white",
            "gridwidth": 2,
            "linecolor": "white",
            "showbackground": true,
            "ticks": "",
            "zerolinecolor": "white"
           }
          },
          "shapedefaults": {
           "line": {
            "color": "#2a3f5f"
           }
          },
          "ternary": {
           "aaxis": {
            "gridcolor": "white",
            "linecolor": "white",
            "ticks": ""
           },
           "baxis": {
            "gridcolor": "white",
            "linecolor": "white",
            "ticks": ""
           },
           "bgcolor": "#E5ECF6",
           "caxis": {
            "gridcolor": "white",
            "linecolor": "white",
            "ticks": ""
           }
          },
          "title": {
           "x": 0.05
          },
          "xaxis": {
           "automargin": true,
           "gridcolor": "white",
           "linecolor": "white",
           "ticks": "",
           "title": {
            "standoff": 15
           },
           "zerolinecolor": "white",
           "zerolinewidth": 2
          },
          "yaxis": {
           "automargin": true,
           "gridcolor": "white",
           "linecolor": "white",
           "ticks": "",
           "title": {
            "standoff": 15
           },
           "zerolinecolor": "white",
           "zerolinewidth": 2
          }
         }
        },
        "title": {
         "text": "Wehrbedienungsplan (Alle Klappen)"
        },
        "xaxis": {
         "anchor": "y",
         "domain": [
          0,
          1
         ],
         "gridcolor": "lightgrey",
         "range": [
          0,
          550
         ],
         "title": {
          "text": "Abfluss Q [m³/s]"
         }
        },
        "yaxis": {
         "anchor": "x",
         "domain": [
          0,
          1
         ],
         "gridcolor": "lightgrey",
         "range": [
          0,
          6
         ],
         "title": {
          "text": "h2_erf [m]"
         }
        }
       }
      }
     },
     "metadata": {},
     "output_type": "display_data"
    }
   ],
   "source": [
    "import pandas as pd\n",
    "import plotly.express as px\n",
    "import ipywidgets as widgets\n",
    "from IPython.display import display\n",
    "\n",
    "# Gegebene Daten für h2_erf und Abfluss bei verschiedenen Klappenanzahlen\n",
    "data = {\n",
    "    \"h2_erf [m]\": [1.49, 2.67, 4.09, 5.76],\n",
    "    \"n=1\": [6, 20, 50, 110],\n",
    "    \"n=2\": [12, 40, 100, 220],\n",
    "    \"n=3\": [18, 60, 150, 330],\n",
    "    \"n=4\": [24, 80, 200, 440],\n",
    "    \"n=5\": [30, 100, 250, 550],\n",
    "}\n",
    "\n",
    "# Erstellen eines Pandas DataFrames aus dem Dictionary\n",
    "df = pd.DataFrame(data)\n",
    "\n",
    "# Funktion zum Anzeigen des Diagramms\n",
    "def zeige_diagramm():\n",
    "    # Erstellen einer Liste aller Spalten für die Klappenanzahlen\n",
    "    spalten = [f\"n={n}\" for n in range(1, 6)]\n",
    "\n",
    "    # Erstellen des Diagramms mit Plotly Express\n",
    "    fig = px.line(df, y=\"h2_erf [m]\", x=spalten,\n",
    "                  title=\"Wehrbedienungsplan (Alle Klappen)\",\n",
    "                  labels={\"h2_erf [m]\": \"h2_erf [m]\", \"value\": \"Abfluss Q [m³/s]\", \"variable\": \"Klappenanzahl\"},\n",
    "                  markers=True,\n",
    "                  range_x=[0, 550],\n",
    "                  range_y=[0, 6])\n",
    "\n",
    "    # Anpassen des Layouts des Diagramms\n",
    "    fig.update_layout(\n",
    "        yaxis_title=\"h2_erf [m]\",\n",
    "        xaxis_title=\"Abfluss Q [m³/s]\",\n",
    "        yaxis_range=[0, 6],\n",
    "        xaxis_range=[0, 550],\n",
    "        yaxis_gridcolor='lightgrey',\n",
    "        xaxis_gridcolor='lightgrey',\n",
    "        plot_bgcolor='white'\n",
    "    )\n",
    "\n",
    "    # Anzeigen des Diagramms\n",
    "    fig.show()\n",
    "\n",
    "# Anzeigen des Diagramms (ohne interaktives Widget)\n",
    "zeige_diagramm()\n"
   ]
  },
  {
   "cell_type": "markdown",
   "metadata": {},
   "source": [
    "Plotly-Diagramme sind ein wertvolles Werkzeug, um hydraulische Daten interaktiv zu erkunden. Anders als statische Grafiken ermöglichen sie es, durch einfaches Hovern mit der Maus präzise Werte an einzelnen Datenpunkten abzulesen. Für Detailanalysen könnt ihr in bestimmte Bereiche zoomen oder das Diagramm verschieben. Ein wesentliches Feature ist die interaktive Legende: Einzelne Datensätze lassen sich durch einen Klick gezielt ein- oder ausblenden. Der Doppelklick auf einen Eintrag in der Legende isoliert diesen Datensatz, was den Vergleich mit anderen Datensätzen vereinfacht. \n",
    "\n",
    "\n",
    "Im nächsten Schritt muss **$h_u$** bestimmt werden. Dies kann aus der Abflusskurve abgelesen werden. Markiere die entsprechenden Punkte für **$h_u$** im nächsten Diagramm!"
   ]
  },
  {
   "cell_type": "code",
   "execution_count": null,
   "metadata": {},
   "outputs": [
    {
     "data": {
      "text/html": [
       "\n",
       "        <iframe\n",
       "            width=\"100%\"\n",
       "            height=\"650\"\n",
       "            src=\"http://127.0.0.1:8050/\"\n",
       "            frameborder=\"0\"\n",
       "            allowfullscreen\n",
       "            \n",
       "        ></iframe>\n",
       "        "
      ],
      "text/plain": [
       "<IPython.lib.display.IFrame at 0x1e0c2099630>"
      ]
     },
     "metadata": {},
     "output_type": "display_data"
    }
   ],
   "source": [
    "import pandas as pd\n",
    "import plotly.express as px\n",
    "import dash\n",
    "from dash import dcc, html, Input, Output\n",
    "\n",
    "# Daten definieren\n",
    "abflusskurve_data = {\n",
    "    \"Q\": [0, 20, 24, 40, 60, 80, 100, 120, 140, 160, 180, 200, 220, 240, 260, 280, 300, 320, 340, 360, 380, 400, 420, 440],\n",
    "    \"hu\": [0, 0.6, 0.66, 0.9, 1.15, 1.37, 1.59, 1.78, 1.97, 2.13, 2.3, 2.45, 2.6, 2.75, 2.89, 3.02, 3.15, 3.28, 3.4, 3.52, 3.64, 3.76, 3.82, 3.9]\n",
    "}\n",
    "\n",
    "df_abflusskurve = pd.DataFrame(abflusskurve_data)\n",
    "richtige_punkte = [(24, 0.66), (80, 1.37), (200, 2.45), (440, 3.9)]\n",
    "\n",
    "toleranz_Q = 10\n",
    "toleranz_hu = 0.1\n",
    "\n",
    "# Dash-App erstellen\n",
    "app = dash.Dash(__name__)\n",
    "\n",
    "app.layout = html.Div([\n",
    "    dcc.Graph(id='abfluss-plot', config={'displayModeBar': False}),\n",
    "    html.Div(id='rueckmeldung', style={'font-weight': 'bold', 'font-size': '18px', 'margin-top': '10px'}),\n",
    "    html.Div(id='korrekte-punkte', style={'margin-top': '10px'}),\n",
    "    html.Div(id='erfolg-nachricht', style={'font-weight': 'bold', 'font-size': '20px', 'color': 'green', 'margin-top': '20px'})\n",
    "])\n",
    "\n",
    "korrekt_ausgewaehlt = []\n",
    "\n",
    "@app.callback(\n",
    "    [Output('abfluss-plot', 'figure'), \n",
    "     Output('rueckmeldung', 'children'),\n",
    "     Output('korrekte-punkte', 'children'),\n",
    "     Output('erfolg-nachricht', 'children')],\n",
    "    Input('abfluss-plot', 'clickData')\n",
    ")\n",
    "def update_plot(clickData):\n",
    "    global korrekt_ausgewaehlt\n",
    "    \n",
    "    fig = px.line(df_abflusskurve, x='Q', y='hu', title=\"Finde die richtigen Punkte!\",\n",
    "                  labels={'Q': 'Abfluss Q [m³/s]', 'hu': 'hu [m]'}, line_shape='linear')\n",
    "    fig.update_traces(line=dict(color='blue'))\n",
    "    \n",
    "    rueckmeldung = \"Klicke auf einen Punkt in der Grafik.\"\n",
    "    erfolg_nachricht = \"\"\n",
    "    \n",
    "    if clickData:\n",
    "        clicked_x = clickData['points'][0]['x']\n",
    "        clicked_y = clickData['points'][0]['y']\n",
    "        \n",
    "        richtig = any(abs(clicked_x - Q) <= toleranz_Q and abs(clicked_y - hu) <= toleranz_hu for Q, hu in richtige_punkte)\n",
    "        \n",
    "        if richtig:\n",
    "            naechster_punkt = next((p for p in richtige_punkte if abs(clicked_x - p[0]) <= toleranz_Q and abs(clicked_y - p[1]) <= toleranz_hu), None)\n",
    "            if naechster_punkt and naechster_punkt not in korrekt_ausgewaehlt:\n",
    "                farbe = 'green'\n",
    "                rueckmeldung = \"✅ Punkt richtig!\"\n",
    "                korrekt_ausgewaehlt.append(naechster_punkt)\n",
    "                if len(korrekt_ausgewaehlt) == len(richtige_punkte):\n",
    "                    erfolg_nachricht = \"Herzlichen Glückwunsch - alle Punkte gefunden!\"\n",
    "            else:\n",
    "                farbe = 'orange'\n",
    "                rueckmeldung = \"Dieser Punkt wurde bereits ausgewählt.\"\n",
    "        else:\n",
    "            farbe = 'red'\n",
    "            rueckmeldung = \"❌ Punkt falsch!\"\n",
    "        \n",
    "        fig.add_scatter(x=[clicked_x], y=[clicked_y], mode='markers', marker=dict(size=12, color=farbe))\n",
    "    \n",
    "    # Füge alle korrekt ausgewählten Punkte hinzu\n",
    "    for x, y in korrekt_ausgewaehlt:\n",
    "        fig.add_scatter(x=[x], y=[y], mode='markers', marker=dict(size=12, color='green'))\n",
    "    \n",
    "    korrekte_punkte_text = [\n",
    "        html.Div([\n",
    "            html.Span(\"h_u,\", style={'font-size': '18px'}),\n",
    "            html.Span(f\"{int(x)}\", style={'font-size': '14px', 'vertical-align': 'sub'}),\n",
    "            html.Span(f\" = {y:.2f}\", style={'font-size': '18px'})\n",
    "        ]) for x, y in korrekt_ausgewaehlt\n",
    "    ]\n",
    "    \n",
    "    return fig, rueckmeldung, korrekte_punkte_text if korrekte_punkte_text else \"\", erfolg_nachricht\n",
    "\n",
    "if __name__ == '__main__':\n",
    "    app.run(debug=False)\n"
   ]
  },
  {
   "cell_type": "code",
   "execution_count": 23,
   "metadata": {},
   "outputs": [
    {
     "data": {
      "text/html": [
       "\n",
       "        <iframe\n",
       "            width=\"100%\"\n",
       "            height=\"650\"\n",
       "            src=\"http://127.0.0.1:8050/\"\n",
       "            frameborder=\"0\"\n",
       "            allowfullscreen\n",
       "            \n",
       "        ></iframe>\n",
       "        "
      ],
      "text/plain": [
       "<IPython.lib.display.IFrame at 0x1e0c0e51690>"
      ]
     },
     "metadata": {},
     "output_type": "display_data"
    }
   ],
   "source": [
    "import pandas as pd\n",
    "import numpy as np\n",
    "import plotly.graph_objects as go\n",
    "import dash\n",
    "from dash import dcc, html\n",
    "\n",
    "# Daten für Wehrbedienungsplan\n",
    "wehr_data = {\n",
    "    \"h2_erf [m]\": [1.49, 2.67, 4.09, 5.76],\n",
    "    \"n=1\": [6, 20, 50, 110],\n",
    "    \"n=2\": [12, 40, 100, 220],\n",
    "    \"n=3\": [18, 60, 150, 330],\n",
    "    \"n=4\": [24, 80, 200, 440],\n",
    "    \"n=5\": [30, 100, 250, 550],\n",
    "}\n",
    "df_wehr = pd.DataFrame(wehr_data)\n",
    "\n",
    "# Daten für Abflusskurve\n",
    "abflusskurve_data = {\n",
    "    \"Q\": [0, 20, 24, 40, 60, 80, 100, 120, 140, 160, 180, 200, 220, 240, 260, 280, 300, 320, 340, 360, 380, 400, 420, 440],\n",
    "    \"hu\": [0, 0.6, 0.66, 0.9, 1.15, 1.37, 1.59, 1.78, 1.97, 2.13, 2.3, 2.45, 2.6, 2.75, 2.89, 3.02, 3.15, 3.28, 3.4, 3.52, 3.64, 3.76, 3.82, 3.9]\n",
    "}\n",
    "df_abflusskurve = pd.DataFrame(abflusskurve_data)\n",
    "\n",
    "# Abflusskurve + 2m berechnen\n",
    "df_abflusskurve[\"hu+2\"] = df_abflusskurve[\"hu\"] + 2\n",
    "\n",
    "# Funktion zum Finden der Schnittpunkte\n",
    "def find_intersections(df_wehr, df_abflusskurve, tolerance=0.01):\n",
    "    intersections = []\n",
    "    for n in [\"n=1\", \"n=2\", \"n=3\"]:\n",
    "        for i in range(len(df_wehr) - 1):\n",
    "            x1, y1 = df_wehr[n][i], df_wehr[\"h2_erf [m]\"][i]\n",
    "            x2, y2 = df_wehr[n][i+1], df_wehr[\"h2_erf [m]\"][i+1]\n",
    "            \n",
    "            for j in range(len(df_abflusskurve) - 1):\n",
    "                x3, y3 = df_abflusskurve[\"Q\"][j], df_abflusskurve[\"hu+2\"][j]\n",
    "                x4, y4 = df_abflusskurve[\"Q\"][j+1], df_abflusskurve[\"hu+2\"][j+1]\n",
    "                \n",
    "                denom = (y4-y3)*(x2-x1) - (x4-x3)*(y2-y1)\n",
    "                if abs(denom) > 1e-8:  # Vermeidung von Division durch Null\n",
    "                    ua = ((x4-x3)*(y1-y3) - (y4-y3)*(x1-x3)) / denom\n",
    "                    ub = ((x2-x1)*(y1-y3) - (y2-y1)*(x1-x3)) / denom\n",
    "                    if 0 <= ua <= 1 and 0 <= ub <= 1:\n",
    "                        x = x1 + ua * (x2-x1)\n",
    "                        y = y1 + ua * (y2-y1)\n",
    "                        if abs(y - (y3 + ub * (y4-y3))) < tolerance:\n",
    "                            intersections.append({\"n\": n, \"Q\": x, \"h\": y})\n",
    "    \n",
    "    return intersections\n",
    "\n",
    "\n",
    "intersections = find_intersections(df_wehr, df_abflusskurve)\n",
    "\n",
    "# Dash-App erstellen\n",
    "app = dash.Dash(__name__)\n",
    "\n",
    "# Graph erstellen\n",
    "fig = go.Figure()\n",
    "farben = ['red', 'green', 'blue', 'purple', 'orange']\n",
    "for i, col in enumerate([\"n=1\", \"n=2\", \"n=3\", \"n=4\", \"n=5\"]):\n",
    "    fig.add_trace(go.Scatter(x=df_wehr[col], y=df_wehr[\"h2_erf [m]\"], mode='lines+markers', name=col, line=dict(color=farben[i])))\n",
    "fig.add_trace(go.Scatter(x=df_abflusskurve['Q'], y=df_abflusskurve['hu'], mode='lines', name='Abflusskurve', line=dict(color='darkgrey', width=2, dash='dash')))\n",
    "fig.add_trace(go.Scatter(x=df_abflusskurve['Q'], y=df_abflusskurve['hu+2'], mode='lines', name='Abflusskurve +2m', line=dict(color='black', width=2, dash='dash')))\n",
    "\n",
    "# Schnittpunkte zur Figur hinzufügen\n",
    "for point in intersections:\n",
    "    fig.add_trace(go.Scatter(\n",
    "        x=[point['Q']],\n",
    "        y=[point['h']],\n",
    "        mode='markers',\n",
    "        marker=dict(size=15, symbol='circle-open', color='red'),  \n",
    "        name=f\"Schnittpunkt {point['n']}\",\n",
    "        text=f\"n={point['n']}, Q={point['Q']:.2f}, h={point['h']:.2f}\",\n",
    "        hoverinfo='text'\n",
    "    ))\n",
    "\n",
    "# Layout-Anpassungen\n",
    "fig.update_layout(\n",
    "    title=\"Wehrbedienungsplan und Abflusskurve mit Schnittpunkten\",\n",
    "    xaxis_title=\"Abfluss Q [m³/s]\",\n",
    "    yaxis_title=\"h2_erf [m] / hu + s [m]\",\n",
    "    plot_bgcolor='white',\n",
    "    yaxis_range=[0, 6],\n",
    "    xaxis_range=[0, 550],\n",
    "    xaxis=dict(\n",
    "        tickmode='linear',\n",
    "        tick0=0,\n",
    "        dtick=20,\n",
    "        gridcolor='darkgrey',\n",
    "        gridwidth=1.0,\n",
    "        ticklen=5,\n",
    "        minor=dict(\n",
    "            tickmode='linear',\n",
    "            tick0=0,\n",
    "            dtick=5,\n",
    "            gridcolor='lightgrey',\n",
    "            gridwidth=0.5\n",
    "        )\n",
    "    ),\n",
    "    yaxis=dict(\n",
    "        tickmode='linear',\n",
    "        tick0=0,\n",
    "        dtick=1,\n",
    "        gridcolor='darkgrey',\n",
    "        gridwidth=1.0,\n",
    "        minor=dict(\n",
    "            dtick=0.2,\n",
    "            gridcolor='lightgrey',\n",
    "            gridwidth=0.2\n",
    "        )\n",
    "    ),\n",
    "    legend_title=\"Legende\",\n",
    "    hovermode=\"closest\"\n",
    ")\n",
    "\n",
    "app.layout = html.Div([\n",
    "    html.H1(\"Wehrbedienungsplan und Abflusskurve\"),\n",
    "    dcc.Graph(id=\"graph\", figure=fig),\n",
    "    html.Div(id=\"output-container\", style={\"margin\": \"20px\", \"padding\": \"15px\", \"border\": \"1px solid gray\"})\n",
    "])\n",
    "\n",
    "if __name__ == '__main__':\n",
    "    app.run(debug=False)\n"
   ]
  },
  {
   "cell_type": "markdown",
   "metadata": {},
   "source": [
    "### Überfallhöhen\n",
    "\n",
    "Im nächsten Schritt wird die Überfallhöhe berechnet. Es gibt zwei verschiedene Überfallarten. \n",
    "\n",
    "#### Vollkommener Überfall\n",
    "\n",
    "- Der Abfluss Q wird nicht vom Unterwasser her beeinflusst\n",
    "- Im Bereich der Überfallkrone kommt es zum Fließwechsel Strömen → Schießen\n",
    "- Im Bereich der Wehrkrone herrscht der Grenzzustand (**$h_gr$**)\n",
    "\n",
    "![](img/vollkommenerÜberfall.png) \n",
    "\n",
    "#### Unvollkommener Überfall \n",
    "\n",
    "- Der Abfluss Q kann vom Unterwasserstand beeinträchtigt bzw. vermindert werden (Abminderungsfaktor c)\n",
    "- Es kommt nicht zu einem Fließwechsel\n",
    "\n",
    "![](img/unvollkommenerÜberfall.png) \n",
    "\n",
    "$$ Q = \\frac{2}{3} (\\cdot \\ c) \\cdot \\mu \\cdot b \\cdot \\sqrt{2 \\cdot g} \\cdot h_ü^{\\frac{3}{2}} $$\n",
    "\n",
    "$$ b = n \\cdot b $$\n",
    " \n",
    "$$ \\mu = 0.65, \\, b = 7.2, \\, g = 9.81 $$\n",
    "\n"
   ]
  },
  {
   "cell_type": "code",
   "execution_count": 24,
   "metadata": {},
   "outputs": [
    {
     "data": {
      "text/html": [
       "\n",
       "        <iframe\n",
       "            width=\"100%\"\n",
       "            height=\"650\"\n",
       "            src=\"http://127.0.0.1:8050/\"\n",
       "            frameborder=\"0\"\n",
       "            allowfullscreen\n",
       "            \n",
       "        ></iframe>\n",
       "        "
      ],
      "text/plain": [
       "<IPython.lib.display.IFrame at 0x1e0c205a9b0>"
      ]
     },
     "metadata": {},
     "output_type": "display_data"
    }
   ],
   "source": [
    "import dash\n",
    "from dash import dcc, html, Input, Output, State, dash_table\n",
    "import pandas as pd\n",
    "import math\n",
    "import plotly.express as px\n",
    "\n",
    "# Dash-App erstellen\n",
    "app = dash.Dash(__name__)\n",
    "\n",
    "# Formel zur Berechnung von Q\n",
    "def berechne_Q(hu, n):\n",
    "    µ = 0.65\n",
    "    b = n * 7.2\n",
    "    g = 9.81\n",
    "    return (2 / 3) * µ * b * math.sqrt(2 * g) * (hu ** (3 / 2))\n",
    "\n",
    "# Daten definieren\n",
    "hü_values = [0, 1, 2, 3, 4]\n",
    "n_values = [1, 2, 3, 4]\n",
    "\n",
    "# Kontrollwerte aus der Tabelle\n",
    "expected_values = {\n",
    "    (hu, n): berechne_Q(hu, n) for hu in hü_values for n in n_values\n",
    "}\n",
    "\n",
    "# Leere Tabelle erstellen\n",
    "df_table = pd.DataFrame(\n",
    "    [[None for _ in n_values] for _ in hü_values],\n",
    "    columns=[f\"n_{n}\" for n in n_values],\n",
    "    index=hü_values\n",
    ")\n",
    "df_table.insert(0, \"hü\", hü_values)\n",
    "\n",
    "# Speicherung der bisherigen Werte\n",
    "previous_plot_data = []\n",
    "\n",
    "app.layout = html.Div([\n",
    "    \n",
    "    dash_table.DataTable(\n",
    "        id='interaktive-tabelle',\n",
    "        columns=[{\"name\": \"hü\", \"id\": \"hü\", \"editable\": False}] + \n",
    "                [{\"name\": f\"n = {n}\", \"id\": f\"n_{n}\", \"editable\": True} for n in n_values],\n",
    "        data=df_table.to_dict('records'),\n",
    "        editable=True,\n",
    "        style_table={'margin': '20px'},\n",
    "        style_cell={'textAlign': 'center', 'font-size': '16px'},\n",
    "        style_header={\n",
    "            'backgroundColor': 'rgb(220, 220, 220)',\n",
    "            'fontWeight': 'bold'\n",
    "        },\n",
    "        style_data_conditional=[\n",
    "            {\n",
    "                'if': {'row_index': 'odd'},\n",
    "                'backgroundColor': 'rgb(248, 248, 248)'\n",
    "            }\n",
    "        ]\n",
    "    ),\n",
    "    \n",
    "    html.Div(id='feedback', style={'margin-top': '20px', 'font-weight': 'bold', 'font-size': '18px'}),\n",
    "    dcc.Graph(id='plot')\n",
    "])\n",
    "\n",
    "@app.callback(\n",
    "    [Output('interaktive-tabelle', 'data'), Output('feedback', 'children'), Output('plot', 'figure')],\n",
    "    Input('interaktive-tabelle', 'data'),\n",
    "    State('interaktive-tabelle', 'data_previous')\n",
    ")\n",
    "def validate_table(data, data_previous):\n",
    "    global previous_plot_data\n",
    "    if data_previous is None:\n",
    "        return data, \"\", px.line()\n",
    "    \n",
    "    feedback_messages = []\n",
    "    new_plot_data = []\n",
    "    \n",
    "    for row in data:\n",
    "        hu_value = row['hü']\n",
    "        for n in n_values:\n",
    "            col_name = f\"n_{n}\"\n",
    "            cell_value = row[col_name]\n",
    "            \n",
    "            if cell_value is not None:\n",
    "                try:\n",
    "                    cell_value_float = float(cell_value)\n",
    "                    expected_value = expected_values.get((hu_value, n), None)\n",
    "                    if expected_value is not None and math.isclose(cell_value_float, expected_value, rel_tol=1e-2):\n",
    "                        row[col_name] = f\"{cell_value_float} ✅\"\n",
    "                        new_plot_data.append((cell_value_float, hu_value, f\"n={n}\"))\n",
    "                    else:\n",
    "                        row[col_name] = f\"{cell_value_float} ❌\"\n",
    "                except ValueError:\n",
    "                    continue\n",
    "    \n",
    "    # Kombiniere alte und neue Werte\n",
    "    previous_plot_data.extend(new_plot_data)\n",
    "    df_plot = pd.DataFrame(previous_plot_data, columns=['Q', 'hü', 'n'])\n",
    "    fig = px.line(df_plot, x='Q', y='hü', color='n', title=\"Visualisierung der berechneten Q-Werte\", markers=True)\n",
    "    fig.update_layout(yaxis=dict(range=[0, max(hü_values)]), xaxis=dict(range=[0, max(expected_values.values())]))\n",
    "    \n",
    "    return data, \"\\n\".join(feedback_messages), fig\n",
    "\n",
    "if __name__ == '__main__':\n",
    "    app.run(debug=False)\n"
   ]
  }
 ],
 "metadata": {
  "kernelspec": {
   "display_name": "hausarbeit_wb4",
   "language": "python",
   "name": "python3"
  },
  "language_info": {
   "codemirror_mode": {
    "name": "ipython",
    "version": 3
   },
   "file_extension": ".py",
   "mimetype": "text/x-python",
   "name": "python",
   "nbconvert_exporter": "python",
   "pygments_lexer": "ipython3",
   "version": "3.10.16"
  }
 },
 "nbformat": 4,
 "nbformat_minor": 2
}
